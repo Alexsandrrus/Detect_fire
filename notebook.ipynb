{
 "cells": [
  {
   "cell_type": "markdown",
   "id": "fe006736",
   "metadata": {},
   "source": [
    "# Импорт библиотек\n"
   ]
  },
  {
   "cell_type": "code",
   "execution_count": 7,
   "id": "dbe5eb47",
   "metadata": {},
   "outputs": [],
   "source": [
    "import os\n",
    "import warnings\n",
    "import logging\n",
    "import shutil\n",
    "import json\n",
    "from pathlib import Path\n",
    "from ultralytics import YOLO\n",
    "import torch\n"
   ]
  },
  {
   "cell_type": "markdown",
   "id": "bfaa5ab0",
   "metadata": {},
   "source": [
    "\n",
    "# Настройки\n"
   ]
  },
  {
   "cell_type": "code",
   "execution_count": 8,
   "id": "7b41e173",
   "metadata": {},
   "outputs": [],
   "source": [
    "warnings.filterwarnings('ignore')\n",
    "logging.basicConfig(level=logging.INFO)\n"
   ]
  },
  {
   "cell_type": "markdown",
   "id": "c0a9c1fe",
   "metadata": {},
   "source": [
    "\n",
    "# Константы\n"
   ]
  },
  {
   "cell_type": "code",
   "execution_count": 9,
   "id": "dd62d9e7",
   "metadata": {},
   "outputs": [],
   "source": [
    "CLASSES = {0: 'fire', 1: 'smoke'}\n",
    "\n",
    "def fix_path_separators(path):\n",
    "    \"\"\"Исправление разделителей путей для Windows\"\"\"\n",
    "    return path.replace('/', os.sep).replace('\\\\', os.sep)\n"
   ]
  },
  {
   "cell_type": "markdown",
   "id": "ab167e73",
   "metadata": {},
   "source": [
    "\n",
    "# 1. Подготовка данных\n"
   ]
  },
  {
   "cell_type": "code",
   "execution_count": 10,
   "id": "52a22722",
   "metadata": {},
   "outputs": [],
   "source": [
    "def prepare_dataset():\n",
    "    try:\n",
    "        # Очистка предыдущих данных\n",
    "        if os.path.exists('yolo_dataset'):\n",
    "            shutil.rmtree('yolo_dataset')\n",
    "        \n",
    "        # Создание структуры папок\n",
    "        os.makedirs('yolo_dataset/images/train', exist_ok=True)\n",
    "        os.makedirs('yolo_dataset/images/val', exist_ok=True)\n",
    "        os.makedirs('yolo_dataset/labels/train', exist_ok=True)\n",
    "        os.makedirs('yolo_dataset/labels/val', exist_ok=True)\n",
    "\n",
    "        def convert_coco_to_yolo(json_path, img_dir, out_img_dir, out_label_dir):\n",
    "            with open(json_path) as f:\n",
    "                data = json.load(f)\n",
    "            \n",
    "            # Создаем mapping для изображений\n",
    "            images = {img['id']: img for img in data['images']}\n",
    "            \n",
    "            # Обрабатываем аннотации\n",
    "            for ann in data['annotations']:\n",
    "                if ann['category_id'] not in CLASSES:\n",
    "                    continue\n",
    "                \n",
    "                img_info = images.get(ann['image_id'])\n",
    "                if not img_info:\n",
    "                    continue\n",
    "                \n",
    "                # Исправление пути к изображению\n",
    "                img_name = fix_path_separators(img_info['file_name'])\n",
    "                base_name = os.path.basename(img_name)\n",
    "                \n",
    "                # Конвертация bbox\n",
    "                x, y, w, h = ann['bbox']\n",
    "                img_w, img_h = img_info['width'], img_info['height']\n",
    "                x_center = (x + w/2) / img_w\n",
    "                y_center = (y + h/2) / img_h\n",
    "                width = w / img_w\n",
    "                height = h / img_h\n",
    "                \n",
    "                # Сохранение аннотации\n",
    "                label_path = os.path.join(out_label_dir, os.path.splitext(base_name)[0] + '.txt')\n",
    "                with open(label_path, 'a') as f:\n",
    "                    f.write(f\"{ann['category_id']} {x_center} {y_center} {width} {height}\\n\")\n",
    "                \n",
    "                # Копирование изображения с проверкой пути\n",
    "                src = os.path.join(img_dir, img_name)\n",
    "                dst = os.path.join(out_img_dir, base_name)\n",
    "                if os.path.exists(src) and not os.path.exists(dst):\n",
    "                    shutil.copy(src, dst)\n",
    "\n",
    "        # Проверка существования исходных данных\n",
    "        if not os.path.exists('475_fire_train/annotations/instances_default.json'):\n",
    "            raise FileNotFoundError(\"Train annotations not found!\")\n",
    "        if not os.path.exists('474_fire_val/annotations/instances_default.json'):\n",
    "            raise FileNotFoundError(\"Val annotations not found!\")\n",
    "\n",
    "        # Конвертация данных\n",
    "        convert_coco_to_yolo(\n",
    "            '475_fire_train/annotations/instances_default.json',\n",
    "            '475_fire_train/images',\n",
    "            'yolo_dataset/images/train',\n",
    "            'yolo_dataset/labels/train'\n",
    "        )\n",
    "        \n",
    "        convert_coco_to_yolo(\n",
    "            '474_fire_val/annotations/instances_default.json',\n",
    "            '474_fire_val/images',\n",
    "            'yolo_dataset/images/val',\n",
    "            'yolo_dataset/labels/val'\n",
    "        )\n",
    "\n",
    "        # Создание YAML файла\n",
    "        yaml_content = f\"\"\"\n",
    "path: {Path('yolo_dataset').absolute()}\n",
    "train: images/train\n",
    "val: images/val\n",
    "names: {list(CLASSES.values())}\n",
    "\"\"\"\n",
    "        with open('fire_smoke.yaml', 'w') as f:\n",
    "            f.write(yaml_content.strip())\n",
    "        \n",
    "        # Проверка созданных данных\n",
    "        print(f\"Train images: {len(os.listdir('yolo_dataset/images/train'))}\")\n",
    "        print(f\"Train labels: {len(os.listdir('yolo_dataset/labels/train'))}\")\n",
    "        print(f\"Val images: {len(os.listdir('yolo_dataset/images/val'))}\")\n",
    "        print(f\"Val labels: {len(os.listdir('yolo_dataset/labels/val'))}\")\n",
    "        \n",
    "        return True\n",
    "    \n",
    "    except Exception as e:\n",
    "        print(f\"Error preparing dataset: {str(e)}\")\n",
    "        return False\n"
   ]
  },
  {
   "cell_type": "markdown",
   "id": "f7d31b3e",
   "metadata": {},
   "source": [
    "\n",
    "# 2. Обучение модели\n"
   ]
  },
  {
   "cell_type": "code",
   "execution_count": 11,
   "id": "265aee72",
   "metadata": {},
   "outputs": [],
   "source": [
    "def train_model():\n",
    "    try:\n",
    "        # Проверка YAML файла\n",
    "        if not os.path.exists('fire_smoke.yaml'):\n",
    "            raise FileNotFoundError(\"YAML config not found!\")\n",
    "        \n",
    "        # Инициализация модели (используем детекцию вместо сегментации)\n",
    "        model = YOLO('yolov8s.pt')\n",
    "        \n",
    "        # Параметры обучения\n",
    "        train_args = {\n",
    "            'data': 'fire_smoke.yaml',\n",
    "            'epochs': 6,\n",
    "            'batch': 4,\n",
    "            'imgsz': 416,\n",
    "            'device': '0' if torch.cuda.is_available() else 'cpu',\n",
    "            'workers': 1,\n",
    "            'verbose': True\n",
    "        }\n",
    "        \n",
    "        # Обучение\n",
    "        results = model.train(**train_args)\n",
    "        return model\n",
    "    \n",
    "    except Exception as e:\n",
    "        print(f\"Training error: {str(e)}\")\n",
    "        return None\n",
    "# больше 7 эпох не вывозит мой комп =)"
   ]
  },
  {
   "cell_type": "markdown",
   "id": "5d4f4ee4",
   "metadata": {},
   "source": [
    "\n",
    "# Основной процесс\n"
   ]
  },
  {
   "cell_type": "code",
   "execution_count": 12,
   "id": "c4a6579a",
   "metadata": {},
   "outputs": [
    {
     "name": "stdout",
     "output_type": "stream",
     "text": [
      "=== Starting ===\n",
      "Train images: 40\n",
      "Train labels: 40\n",
      "Val images: 5\n",
      "Val labels: 5\n",
      "Downloading https://github.com/ultralytics/assets/releases/download/v8.3.0/yolov8s.pt to 'yolov8s.pt'...\n"
     ]
    },
    {
     "name": "stderr",
     "output_type": "stream",
     "text": [
      "100%|██████████| 21.5M/21.5M [00:00<00:00, 24.0MB/s]\n"
     ]
    },
    {
     "name": "stdout",
     "output_type": "stream",
     "text": [
      "New https://pypi.org/project/ultralytics/8.3.107 available  Update with 'pip install -U ultralytics'\n",
      "Ultralytics 8.3.89  Python-3.12.8 torch-2.6.0+cpu CPU (AMD Ryzen 7 6800HS Creator Edition)\n",
      "\u001b[34m\u001b[1mengine\\trainer: \u001b[0mtask=detect, mode=train, model=yolov8s.pt, data=fire_smoke.yaml, epochs=6, time=None, patience=100, batch=4, imgsz=416, save=True, save_period=-1, cache=False, device=cpu, workers=1, project=None, name=train2, exist_ok=False, pretrained=True, optimizer=auto, verbose=True, seed=0, deterministic=True, single_cls=False, rect=False, cos_lr=False, close_mosaic=10, resume=False, amp=True, fraction=1.0, profile=False, freeze=None, multi_scale=False, overlap_mask=True, mask_ratio=4, dropout=0.0, val=True, split=val, save_json=False, save_hybrid=False, conf=None, iou=0.7, max_det=300, half=False, dnn=False, plots=True, source=None, vid_stride=1, stream_buffer=False, visualize=False, augment=False, agnostic_nms=False, classes=None, retina_masks=False, embed=None, show=False, save_frames=False, save_txt=False, save_conf=False, save_crop=False, show_labels=True, show_conf=True, show_boxes=True, line_width=None, format=torchscript, keras=False, optimize=False, int8=False, dynamic=False, simplify=True, opset=None, workspace=None, nms=False, lr0=0.01, lrf=0.01, momentum=0.937, weight_decay=0.0005, warmup_epochs=3.0, warmup_momentum=0.8, warmup_bias_lr=0.1, box=7.5, cls=0.5, dfl=1.5, pose=12.0, kobj=1.0, nbs=64, hsv_h=0.015, hsv_s=0.7, hsv_v=0.4, degrees=0.0, translate=0.1, scale=0.5, shear=0.0, perspective=0.0, flipud=0.0, fliplr=0.5, bgr=0.0, mosaic=1.0, mixup=0.0, copy_paste=0.0, copy_paste_mode=flip, auto_augment=randaugment, erasing=0.4, crop_fraction=1.0, cfg=None, tracker=botsort.yaml, save_dir=runs\\detect\\train2\n",
      "Overriding model.yaml nc=80 with nc=2\n",
      "\n",
      "                   from  n    params  module                                       arguments                     \n",
      "  0                  -1  1       928  ultralytics.nn.modules.conv.Conv             [3, 32, 3, 2]                 \n",
      "  1                  -1  1     18560  ultralytics.nn.modules.conv.Conv             [32, 64, 3, 2]                \n",
      "  2                  -1  1     29056  ultralytics.nn.modules.block.C2f             [64, 64, 1, True]             \n",
      "  3                  -1  1     73984  ultralytics.nn.modules.conv.Conv             [64, 128, 3, 2]               \n",
      "  4                  -1  2    197632  ultralytics.nn.modules.block.C2f             [128, 128, 2, True]           \n",
      "  5                  -1  1    295424  ultralytics.nn.modules.conv.Conv             [128, 256, 3, 2]              \n",
      "  6                  -1  2    788480  ultralytics.nn.modules.block.C2f             [256, 256, 2, True]           \n",
      "  7                  -1  1   1180672  ultralytics.nn.modules.conv.Conv             [256, 512, 3, 2]              \n",
      "  8                  -1  1   1838080  ultralytics.nn.modules.block.C2f             [512, 512, 1, True]           \n",
      "  9                  -1  1    656896  ultralytics.nn.modules.block.SPPF            [512, 512, 5]                 \n",
      " 10                  -1  1         0  torch.nn.modules.upsampling.Upsample         [None, 2, 'nearest']          \n",
      " 11             [-1, 6]  1         0  ultralytics.nn.modules.conv.Concat           [1]                           \n",
      " 12                  -1  1    591360  ultralytics.nn.modules.block.C2f             [768, 256, 1]                 \n",
      " 13                  -1  1         0  torch.nn.modules.upsampling.Upsample         [None, 2, 'nearest']          \n",
      " 14             [-1, 4]  1         0  ultralytics.nn.modules.conv.Concat           [1]                           \n",
      " 15                  -1  1    148224  ultralytics.nn.modules.block.C2f             [384, 128, 1]                 \n",
      " 16                  -1  1    147712  ultralytics.nn.modules.conv.Conv             [128, 128, 3, 2]              \n",
      " 17            [-1, 12]  1         0  ultralytics.nn.modules.conv.Concat           [1]                           \n",
      " 18                  -1  1    493056  ultralytics.nn.modules.block.C2f             [384, 256, 1]                 \n",
      " 19                  -1  1    590336  ultralytics.nn.modules.conv.Conv             [256, 256, 3, 2]              \n",
      " 20             [-1, 9]  1         0  ultralytics.nn.modules.conv.Concat           [1]                           \n",
      " 21                  -1  1   1969152  ultralytics.nn.modules.block.C2f             [768, 512, 1]                 \n",
      " 22        [15, 18, 21]  1   2116822  ultralytics.nn.modules.head.Detect           [2, [128, 256, 512]]          \n",
      "Model summary: 129 layers, 11,136,374 parameters, 11,136,358 gradients, 28.6 GFLOPs\n",
      "\n",
      "Transferred 349/355 items from pretrained weights\n",
      "\u001b[34m\u001b[1mTensorBoard: \u001b[0mStart with 'tensorboard --logdir runs\\detect\\train2', view at http://localhost:6006/\n",
      "Freezing layer 'model.22.dfl.conv.weight'\n"
     ]
    },
    {
     "name": "stderr",
     "output_type": "stream",
     "text": [
      "\u001b[34m\u001b[1mtrain: \u001b[0mScanning C:\\Users\\Aleksandr\\Downloads\\Detect_fire\\yolo_dataset\\labels\\train... 40 images, 0 backgrounds, 0 corrupt: 100%|██████████| 40/40 [00:00<00:00, 1420.22it/s]"
     ]
    },
    {
     "name": "stdout",
     "output_type": "stream",
     "text": [
      "\u001b[34m\u001b[1mtrain: \u001b[0mNew cache created: C:\\Users\\Aleksandr\\Downloads\\Detect_fire\\yolo_dataset\\labels\\train.cache\n"
     ]
    },
    {
     "name": "stderr",
     "output_type": "stream",
     "text": [
      "\n",
      "\u001b[34m\u001b[1mval: \u001b[0mScanning C:\\Users\\Aleksandr\\Downloads\\Detect_fire\\yolo_dataset\\labels\\val... 5 images, 0 backgrounds, 0 corrupt: 100%|██████████| 5/5 [00:00<00:00, 2064.53it/s]"
     ]
    },
    {
     "name": "stdout",
     "output_type": "stream",
     "text": [
      "\u001b[34m\u001b[1mval: \u001b[0mNew cache created: C:\\Users\\Aleksandr\\Downloads\\Detect_fire\\yolo_dataset\\labels\\val.cache\n",
      "Plotting labels to runs\\detect\\train2\\labels.jpg... \n"
     ]
    },
    {
     "name": "stderr",
     "output_type": "stream",
     "text": [
      "\n"
     ]
    },
    {
     "name": "stdout",
     "output_type": "stream",
     "text": [
      "\u001b[34m\u001b[1moptimizer:\u001b[0m 'optimizer=auto' found, ignoring 'lr0=0.01' and 'momentum=0.937' and determining best 'optimizer', 'lr0' and 'momentum' automatically... \n",
      "\u001b[34m\u001b[1moptimizer:\u001b[0m AdamW(lr=0.001667, momentum=0.9) with parameter groups 57 weight(decay=0.0), 64 weight(decay=0.0005), 63 bias(decay=0.0)\n",
      "\u001b[34m\u001b[1mTensorBoard: \u001b[0mmodel graph visualization added \n",
      "Image sizes 416 train, 416 val\n",
      "Using 0 dataloader workers\n",
      "Logging results to \u001b[1mruns\\detect\\train2\u001b[0m\n",
      "Starting training for 6 epochs...\n",
      "\n",
      "      Epoch    GPU_mem   box_loss   cls_loss   dfl_loss  Instances       Size\n"
     ]
    },
    {
     "name": "stderr",
     "output_type": "stream",
     "text": [
      "        1/6         0G      2.016      3.526       1.57          8        416: 100%|██████████| 10/10 [00:06<00:00,  1.43it/s]\n",
      "                 Class     Images  Instances      Box(P          R      mAP50  mAP50-95): 100%|██████████| 1/1 [00:00<00:00,  3.39it/s]"
     ]
    },
    {
     "name": "stdout",
     "output_type": "stream",
     "text": [
      "                   all          5          8      0.565      0.625      0.606       0.31\n"
     ]
    },
    {
     "name": "stderr",
     "output_type": "stream",
     "text": [
      "\n"
     ]
    },
    {
     "name": "stdout",
     "output_type": "stream",
     "text": [
      "\n",
      "      Epoch    GPU_mem   box_loss   cls_loss   dfl_loss  Instances       Size\n"
     ]
    },
    {
     "name": "stderr",
     "output_type": "stream",
     "text": [
      "        2/6         0G      1.739      2.156      1.337         21        416: 100%|██████████| 10/10 [00:14<00:00,  1.46s/it]\n",
      "                 Class     Images  Instances      Box(P          R      mAP50  mAP50-95): 100%|██████████| 1/1 [00:00<00:00,  1.56it/s]"
     ]
    },
    {
     "name": "stdout",
     "output_type": "stream",
     "text": [
      "                   all          5          8      0.311      0.625      0.463      0.263\n"
     ]
    },
    {
     "name": "stderr",
     "output_type": "stream",
     "text": [
      "\n"
     ]
    },
    {
     "name": "stdout",
     "output_type": "stream",
     "text": [
      "\n",
      "      Epoch    GPU_mem   box_loss   cls_loss   dfl_loss  Instances       Size\n"
     ]
    },
    {
     "name": "stderr",
     "output_type": "stream",
     "text": [
      "        3/6         0G      1.708      2.153      1.356         11        416: 100%|██████████| 10/10 [00:13<00:00,  1.36s/it]\n",
      "                 Class     Images  Instances      Box(P          R      mAP50  mAP50-95): 100%|██████████| 1/1 [00:00<00:00,  2.16it/s]"
     ]
    },
    {
     "name": "stdout",
     "output_type": "stream",
     "text": [
      "                   all          5          8          1       0.24      0.393      0.212\n"
     ]
    },
    {
     "name": "stderr",
     "output_type": "stream",
     "text": [
      "\n"
     ]
    },
    {
     "name": "stdout",
     "output_type": "stream",
     "text": [
      "\n",
      "      Epoch    GPU_mem   box_loss   cls_loss   dfl_loss  Instances       Size\n"
     ]
    },
    {
     "name": "stderr",
     "output_type": "stream",
     "text": [
      "        4/6         0G      1.743      1.928      1.416         24        416: 100%|██████████| 10/10 [00:13<00:00,  1.32s/it]\n",
      "                 Class     Images  Instances      Box(P          R      mAP50  mAP50-95): 100%|██████████| 1/1 [00:00<00:00,  2.49it/s]"
     ]
    },
    {
     "name": "stdout",
     "output_type": "stream",
     "text": [
      "                   all          5          8      0.422      0.549      0.463      0.267\n"
     ]
    },
    {
     "name": "stderr",
     "output_type": "stream",
     "text": [
      "\n"
     ]
    },
    {
     "name": "stdout",
     "output_type": "stream",
     "text": [
      "\n",
      "      Epoch    GPU_mem   box_loss   cls_loss   dfl_loss  Instances       Size\n"
     ]
    },
    {
     "name": "stderr",
     "output_type": "stream",
     "text": [
      "        5/6         0G      1.553       1.69      1.305         14        416: 100%|██████████| 10/10 [00:13<00:00,  1.36s/it]\n",
      "                 Class     Images  Instances      Box(P          R      mAP50  mAP50-95): 100%|██████████| 1/1 [00:00<00:00,  1.61it/s]"
     ]
    },
    {
     "name": "stdout",
     "output_type": "stream",
     "text": [
      "                   all          5          8      0.855       0.75      0.831      0.479\n"
     ]
    },
    {
     "name": "stderr",
     "output_type": "stream",
     "text": [
      "\n"
     ]
    },
    {
     "name": "stdout",
     "output_type": "stream",
     "text": [
      "\n",
      "      Epoch    GPU_mem   box_loss   cls_loss   dfl_loss  Instances       Size\n"
     ]
    },
    {
     "name": "stderr",
     "output_type": "stream",
     "text": [
      "        6/6         0G      1.547      1.449      1.255         13        416: 100%|██████████| 10/10 [00:13<00:00,  1.33s/it]\n",
      "                 Class     Images  Instances      Box(P          R      mAP50  mAP50-95): 100%|██████████| 1/1 [00:00<00:00,  1.91it/s]"
     ]
    },
    {
     "name": "stdout",
     "output_type": "stream",
     "text": [
      "                   all          5          8      0.852      0.725      0.899      0.522\n"
     ]
    },
    {
     "name": "stderr",
     "output_type": "stream",
     "text": [
      "\n"
     ]
    },
    {
     "name": "stdout",
     "output_type": "stream",
     "text": [
      "\n",
      "6 epochs completed in 0.023 hours.\n",
      "Optimizer stripped from runs\\detect\\train2\\weights\\last.pt, 22.5MB\n",
      "Optimizer stripped from runs\\detect\\train2\\weights\\best.pt, 22.5MB\n",
      "\n",
      "Validating runs\\detect\\train2\\weights\\best.pt...\n",
      "Ultralytics 8.3.89  Python-3.12.8 torch-2.6.0+cpu CPU (AMD Ryzen 7 6800HS Creator Edition)\n",
      "Model summary (fused): 72 layers, 11,126,358 parameters, 0 gradients, 28.4 GFLOPs\n"
     ]
    },
    {
     "name": "stderr",
     "output_type": "stream",
     "text": [
      "                 Class     Images  Instances      Box(P          R      mAP50  mAP50-95): 100%|██████████| 1/1 [00:00<00:00,  1.97it/s]\n"
     ]
    },
    {
     "name": "stdout",
     "output_type": "stream",
     "text": [
      "                   all          5          8      0.756      0.775      0.909      0.539\n",
      "                 smoke          5          8      0.756      0.775      0.909      0.539\n",
      "Speed: 0.3ms preprocess, 93.5ms inference, 0.0ms loss, 1.4ms postprocess per image\n",
      "Results saved to \u001b[1mruns\\detect\\train2\u001b[0m\n",
      "\n",
      "Training completed! Model saved as 'best_fire_smoke.pt'\n"
     ]
    }
   ],
   "source": [
    "if __name__ == \"__main__\":\n",
    "    print(\"=== Starting ===\")\n",
    "    \n",
    "    # 1. Подготовка данных\n",
    "    if not prepare_dataset():\n",
    "        print(\"Failed to prepare dataset!\")\n",
    "        exit()\n",
    "    \n",
    "    # 2. Обучение модели\n",
    "    model = train_model()\n",
    "    if model is None:\n",
    "        print(\"Failed to train model!\")\n",
    "        exit()\n",
    "    \n",
    "    # 3. Сохранение модели\n",
    "    model.save('best_fire_smoke.pt')\n",
    "    print(\"\\nTraining completed! Model saved as 'best_fire_smoke.pt'\")"
   ]
  }
 ],
 "metadata": {
  "kernelspec": {
   "display_name": "base",
   "language": "python",
   "name": "python3"
  },
  "language_info": {
   "codemirror_mode": {
    "name": "ipython",
    "version": 3
   },
   "file_extension": ".py",
   "mimetype": "text/x-python",
   "name": "python",
   "nbconvert_exporter": "python",
   "pygments_lexer": "ipython3",
   "version": "3.12.8"
  }
 },
 "nbformat": 4,
 "nbformat_minor": 5
}
